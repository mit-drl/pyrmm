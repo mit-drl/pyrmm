{
 "cells": [
  {
   "cell_type": "markdown",
   "id": "0e4bafe6",
   "metadata": {},
   "source": [
    "The risk metric map, $\\rho: \\mathcal{S} \\rightarrow \\mathbb{R}$, maps each state, $s \\in \\mathcal{S}$, to a risk value, $\\rho_s$, based on a configuration space, $\\mathcal{C}$, state transition function, $T$, and joint policy $\\Pi$.\n",
    "\n",
    "At each state, $s \\in \\mathcal{S}$, we can define the \\emph{forward-reachable set}\n",
    "\n",
    "$ \\rho_s \\left( Z | \\mathcal{C}, T, \\Pi \\right) $"
   ]
  },
  {
   "cell_type": "code",
   "execution_count": null,
   "id": "c0e845b9",
   "metadata": {},
   "outputs": [],
   "source": []
  }
 ],
 "metadata": {
  "kernelspec": {
   "display_name": "Python [conda env:risk_metric_maps] *",
   "language": "python",
   "name": "conda-env-risk_metric_maps-py"
  },
  "language_info": {
   "codemirror_mode": {
    "name": "ipython",
    "version": 3
   },
   "file_extension": ".py",
   "mimetype": "text/x-python",
   "name": "python",
   "nbconvert_exporter": "python",
   "pygments_lexer": "ipython3",
   "version": "3.8.11"
  }
 },
 "nbformat": 4,
 "nbformat_minor": 5
}
